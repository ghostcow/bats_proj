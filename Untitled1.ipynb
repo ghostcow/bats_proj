{
 "metadata": {
  "name": "",
  "signature": "sha256:086f4a669f1abad741fced5e07aa6ef8a3076797e9da0b69c33357348d206811"
 },
 "nbformat": 3,
 "nbformat_minor": 0,
 "worksheets": [
  {
   "cells": [
    {
     "cell_type": "code",
     "collapsed": false,
     "input": [
      "#\n",
      "#  tsne.py\n",
      "#  \n",
      "# Implementation of t-SNE in Python. The implementation was tested on Python 2.5.1, and it requires a working \n",
      "# installation of NumPy. The implementation comes with an example on the MNIST dataset. In order to plot the\n",
      "# results of this example, a working installation of matplotlib is required.\n",
      "# The example can be run by executing: ipython tsne.py -pylab\n",
      "#\n",
      "#\n",
      "#  Created by Laurens van der Maaten on 20-12-08.\n",
      "#  Copyright (c) 2008 Tilburg University. All rights reserved.\n",
      "\n",
      "import numpy as Math\n",
      "import pylab as Plot\n",
      "\t\n",
      "def Hbeta(D = Math.array([]), beta = 1.0):\n",
      "\t\"\"\"Compute the perplexity and the P-row for a specific value of the precision of a Gaussian distribution.\"\"\"\n",
      "\t\n",
      "\t# Compute P-row and corresponding perplexity\n",
      "\tP = Math.exp(-D.copy() * beta);\n",
      "\tsumP = sum(P);\n",
      "\tH = Math.log(sumP) + beta * Math.sum(D * P) / sumP;\n",
      "\tP = P / sumP;\n",
      "\treturn H, P;\n",
      "\t\n",
      "\t\n",
      "def x2p(X = Math.array([]), tol = 1e-5, perplexity = 30.0):\n",
      "\t\"\"\"Performs a binary search to get P-values in such a way that each conditional Gaussian has the same perplexity.\"\"\"\n",
      "\n",
      "\t# Initialize some variables\n",
      "\tprint \"Computing pairwise distances...\"\n",
      "\t(n, d) = X.shape;\n",
      "\tsum_X = Math.sum(Math.square(X), 1);\n",
      "\tD = Math.add(Math.add(-2 * Math.dot(X, X.T), sum_X).T, sum_X);\n",
      "\tP = Math.zeros((n, n));\n",
      "\tbeta = Math.ones((n, 1));\n",
      "\tlogU = Math.log(perplexity);\n",
      "    \n",
      "\t# Loop over all datapoints\n",
      "\tfor i in range(n):\n",
      "\t\n",
      "\t\t# Print progress\n",
      "\t\tif i % 500 == 0:\n",
      "\t\t\tprint \"Computing P-values for point \", i, \" of \", n, \"...\"\n",
      "\t\n",
      "\t\t# Compute the Gaussian kernel and entropy for the current precision\n",
      "\t\tbetamin = -Math.inf; \n",
      "\t\tbetamax =  Math.inf;\n",
      "\t\tDi = D[i, Math.concatenate((Math.r_[0:i], Math.r_[i+1:n]))];\n",
      "\t\t(H, thisP) = Hbeta(Di, beta[i]);\n",
      "\t\t\t\n",
      "\t\t# Evaluate whether the perplexity is within tolerance\n",
      "\t\tHdiff = H - logU;\n",
      "\t\ttries = 0;\n",
      "\t\twhile Math.abs(Hdiff) > tol and tries < 50:\n",
      "\t\t\t\t\n",
      "\t\t\t# If not, increase or decrease precision\n",
      "\t\t\tif Hdiff > 0:\n",
      "\t\t\t\tbetamin = beta[i];\n",
      "\t\t\t\tif betamax == Math.inf or betamax == -Math.inf:\n",
      "\t\t\t\t\tbeta[i] = beta[i] * 2;\n",
      "\t\t\t\telse:\n",
      "\t\t\t\t\tbeta[i] = (beta[i] + betamax) / 2;\n",
      "\t\t\telse:\n",
      "\t\t\t\tbetamax = beta[i];\n",
      "\t\t\t\tif betamin == Math.inf or betamin == -Math.inf:\n",
      "\t\t\t\t\tbeta[i] = beta[i] / 2;\n",
      "\t\t\t\telse:\n",
      "\t\t\t\t\tbeta[i] = (beta[i] + betamin) / 2;\n",
      "\t\t\t\n",
      "\t\t\t# Recompute the values\n",
      "\t\t\t(H, thisP) = Hbeta(Di, beta[i]);\n",
      "\t\t\tHdiff = H - logU;\n",
      "\t\t\ttries = tries + 1;\n",
      "\t\t\t\n",
      "\t\t# Set the final row of P\n",
      "\t\tP[i, Math.concatenate((Math.r_[0:i], Math.r_[i+1:n]))] = thisP;\n",
      "\t\n",
      "\t# Return final P-matrix\n",
      "\tprint \"Mean value of sigma: \", Math.mean(Math.sqrt(1 / beta))\n",
      "\treturn P;\n",
      "\t\n",
      "\t\n",
      "def pca(X = Math.array([]), no_dims = 50):\n",
      "\t\"\"\"Runs PCA on the NxD array X in order to reduce its dimensionality to no_dims dimensions.\"\"\"\n",
      "\n",
      "\tprint \"Preprocessing the data using PCA...\"\n",
      "\t(n, d) = X.shape;\n",
      "\tX = X - Math.tile(Math.mean(X, 0), (n, 1));\n",
      "\t(l, M) = Math.linalg.eig(Math.dot(X.T, X));\n",
      "\tY = Math.dot(X, M[:,0:no_dims]);\n",
      "\treturn Y;\n",
      "\n",
      "\n",
      "def tsne(X = Math.array([]), no_dims = 2, initial_dims = 50, perplexity = 30.0):\n",
      "\t\"\"\"Runs t-SNE on the dataset in the NxD array X to reduce its dimensionality to no_dims dimensions.\n",
      "\tThe syntaxis of the function is Y = tsne.tsne(X, no_dims, perplexity), where X is an NxD NumPy array.\"\"\"\n",
      "\t\n",
      "\t# Check inputs\n",
      "\tif X.dtype != \"float64\":\n",
      "\t\tprint \"Error: array X should have type float64.\";\n",
      "\t\treturn -1;\n",
      "\t#if no_dims.__class__ != \"<type 'int'>\":\t\t\t# doesn't work yet!\n",
      "\t#\tprint \"Error: number of dimensions should be an integer.\";\n",
      "\t#\treturn -1;\n",
      "\t\n",
      "\t# Initialize variables\n",
      "\tX = pca(X, initial_dims);\n",
      "\t(n, d) = X.shape;\n",
      "\tmax_iter = 1000;\n",
      "\tinitial_momentum = 0.5;\n",
      "\tfinal_momentum = 0.8;\n",
      "\teta = 500;\n",
      "\tmin_gain = 0.01;\n",
      "\tY = Math.random.randn(n, no_dims);\n",
      "\tdY = Math.zeros((n, no_dims));\n",
      "\tiY = Math.zeros((n, no_dims));\n",
      "\tgains = Math.ones((n, no_dims));\n",
      "\t\n",
      "\t# Compute P-values\n",
      "\tP = x2p(X, 1e-5, perplexity);\n",
      "\tP = P + Math.transpose(P);\n",
      "\tP = P / Math.sum(P);\n",
      "\tP = P * 4;\t\t\t\t\t\t\t\t\t# early exaggeration\n",
      "\tP = Math.maximum(P, 1e-12);\n",
      "\t\n",
      "\t# Run iterations\n",
      "\tfor iter in range(max_iter):\n",
      "\t\t\n",
      "\t\t# Compute pairwise affinities\n",
      "\t\tsum_Y = Math.sum(Math.square(Y), 1);\t\t\n",
      "\t\tnum = 1 / (1 + Math.add(Math.add(-2 * Math.dot(Y, Y.T), sum_Y).T, sum_Y));\n",
      "\t\tnum[range(n), range(n)] = 0;\n",
      "\t\tQ = num / Math.sum(num);\n",
      "\t\tQ = Math.maximum(Q, 1e-12);\n",
      "\t\t\n",
      "\t\t# Compute gradient\n",
      "\t\tPQ = P - Q;\n",
      "\t\tfor i in range(n):\n",
      "\t\t\tdY[i,:] = Math.sum(Math.tile(PQ[:,i] * num[:,i], (no_dims, 1)).T * (Y[i,:] - Y), 0);\n",
      "\t\t\t\n",
      "\t\t# Perform the update\n",
      "\t\tif iter < 20:\n",
      "\t\t\tmomentum = initial_momentum\n",
      "\t\telse:\n",
      "\t\t\tmomentum = final_momentum\n",
      "\t\tgains = (gains + 0.2) * ((dY > 0) != (iY > 0)) + (gains * 0.8) * ((dY > 0) == (iY > 0));\n",
      "\t\tgains[gains < min_gain] = min_gain;\n",
      "\t\tiY = momentum * iY - eta * (gains * dY);\n",
      "\t\tY = Y + iY;\n",
      "\t\tY = Y - Math.tile(Math.mean(Y, 0), (n, 1));\n",
      "\t\t\n",
      "\t\t# Compute current value of cost function\n",
      "\t\tif (iter + 1) % 10 == 0:\n",
      "\t\t\tC = Math.sum(P * Math.log(P / Q));\n",
      "\t\t\tprint \"Iteration \", (iter + 1), \": error is \", C\n",
      "\t\t\t\n",
      "\t\t# Stop lying about P-values\n",
      "\t\tif iter == 100:\n",
      "\t\t\tP = P / 4;\n",
      "\t\t\t\n",
      "\t# Return solution\n",
      "\treturn Y;\n",
      "\t\t\n",
      "\t\n",
      "if __name__ == \"__main__\":\n",
      "\tprint \"Run Y = tsne.tsne(X, no_dims, perplexity) to perform t-SNE on your dataset.\"\n",
      "\tprint \"Running example on 2,500 MNIST digits...\"\n",
      "\tX = Math.loadtxt(\"/home/lioruzan/tsne_python/mnist2500_X.txt\");\n",
      "\tlabels = Math.loadtxt(\"/home/lioruzan/tsne_python/mnist2500_labels.txt\");\n",
      "\tY = tsne(X, 2, 50, 20.0);\n",
      "\tPlot.scatter(Y[:,0], Y[:,1], 20, labels)\n"
     ],
     "language": "python",
     "metadata": {},
     "outputs": [
      {
       "output_type": "stream",
       "stream": "stdout",
       "text": [
        "Run Y = tsne.tsne(X, no_dims, perplexity) to perform t-SNE on your dataset.\n",
        "Running example on 2,500 MNIST digits...\n",
        "Preprocessing the data using PCA..."
       ]
      },
      {
       "output_type": "stream",
       "stream": "stdout",
       "text": [
        "\n",
        "Computing pairwise distances..."
       ]
      },
      {
       "output_type": "stream",
       "stream": "stdout",
       "text": [
        "\n",
        "Computing P-values for point "
       ]
      },
      {
       "output_type": "stream",
       "stream": "stdout",
       "text": [
        " 0  of  2500 ...\n",
        "Computing P-values for point "
       ]
      },
      {
       "output_type": "stream",
       "stream": "stdout",
       "text": [
        " 500  of  2500 ...\n",
        "Computing P-values for point "
       ]
      },
      {
       "output_type": "stream",
       "stream": "stdout",
       "text": [
        " 1000  of  2500 ...\n",
        "Computing P-values for point "
       ]
      },
      {
       "output_type": "stream",
       "stream": "stdout",
       "text": [
        " 1500  of  2500 ...\n",
        "Computing P-values for point "
       ]
      },
      {
       "output_type": "stream",
       "stream": "stdout",
       "text": [
        " 2000  of  2500 ...\n",
        "Mean value of sigma: "
       ]
      },
      {
       "output_type": "stream",
       "stream": "stdout",
       "text": [
        " 2.85386080555\n",
        "Iteration "
       ]
      },
      {
       "output_type": "stream",
       "stream": "stdout",
       "text": [
        " 10 : error is  19.6149938789\n",
        "Iteration "
       ]
      },
      {
       "output_type": "stream",
       "stream": "stdout",
       "text": [
        " 20 : error is  17.8345998935\n",
        "Iteration "
       ]
      },
      {
       "output_type": "stream",
       "stream": "stdout",
       "text": [
        " 30 : error is  16.0458795996\n",
        "Iteration "
       ]
      },
      {
       "output_type": "stream",
       "stream": "stdout",
       "text": [
        " 40 : error is  15.6272991206\n",
        "Iteration "
       ]
      },
      {
       "output_type": "stream",
       "stream": "stdout",
       "text": [
        " 50 : error is  15.6425526171\n",
        "Iteration "
       ]
      },
      {
       "output_type": "stream",
       "stream": "stdout",
       "text": [
        " 60 : error is  15.6658431126\n",
        "Iteration "
       ]
      },
      {
       "output_type": "stream",
       "stream": "stdout",
       "text": [
        " 70 : error is  15.6873587082\n",
        "Iteration "
       ]
      },
      {
       "output_type": "stream",
       "stream": "stdout",
       "text": [
        " 80 : error is  15.6513968573\n",
        "Iteration "
       ]
      },
      {
       "output_type": "stream",
       "stream": "stdout",
       "text": [
        " 90 : error is  15.6363996344\n",
        "Iteration "
       ]
      },
      {
       "output_type": "stream",
       "stream": "stdout",
       "text": [
        " 100 : error is  15.6425939951\n",
        "Iteration "
       ]
      },
      {
       "output_type": "stream",
       "stream": "stdout",
       "text": [
        " 110 : error is  2.02619767409\n",
        "Iteration "
       ]
      },
      {
       "output_type": "stream",
       "stream": "stdout",
       "text": [
        " 120 : error is  1.61001238874\n",
        "Iteration "
       ]
      },
      {
       "output_type": "stream",
       "stream": "stdout",
       "text": [
        " 130 : error is  1.42082896585\n",
        "Iteration "
       ]
      },
      {
       "output_type": "stream",
       "stream": "stdout",
       "text": [
        " 140 : error is  1.31209528348\n",
        "Iteration "
       ]
      },
      {
       "output_type": "stream",
       "stream": "stdout",
       "text": [
        " 150 : error is  1.23904163194\n",
        "Iteration "
       ]
      },
      {
       "output_type": "stream",
       "stream": "stdout",
       "text": [
        " 160 : error is  1.18605526387\n",
        "Iteration "
       ]
      },
      {
       "output_type": "stream",
       "stream": "stdout",
       "text": [
        " 170 : error is  1.14571027029\n",
        "Iteration "
       ]
      },
      {
       "output_type": "stream",
       "stream": "stdout",
       "text": [
        " 180 : error is  1.11393115956\n",
        "Iteration "
       ]
      },
      {
       "output_type": "stream",
       "stream": "stdout",
       "text": [
        " 190 : error is  1.08830724097\n",
        "Iteration "
       ]
      },
      {
       "output_type": "stream",
       "stream": "stdout",
       "text": [
        " 200 : error is  1.06728354095\n",
        "Iteration "
       ]
      },
      {
       "output_type": "stream",
       "stream": "stdout",
       "text": [
        " 210 : error is  1.04975386364\n",
        "Iteration "
       ]
      },
      {
       "output_type": "stream",
       "stream": "stdout",
       "text": [
        " 220 : error is  1.03495606886\n",
        "Iteration "
       ]
      },
      {
       "output_type": "stream",
       "stream": "stdout",
       "text": [
        " 230 : error is  1.0223215529\n",
        "Iteration "
       ]
      },
      {
       "output_type": "stream",
       "stream": "stdout",
       "text": [
        " 240 : error is  1.01141021361\n",
        "Iteration "
       ]
      },
      {
       "output_type": "stream",
       "stream": "stdout",
       "text": [
        " 250 : error is  1.00194101007\n",
        "Iteration "
       ]
      },
      {
       "output_type": "stream",
       "stream": "stdout",
       "text": [
        " 260 : error is  0.993720892006\n",
        "Iteration "
       ]
      },
      {
       "output_type": "stream",
       "stream": "stdout",
       "text": [
        " 270 : error is  0.986530755038\n",
        "Iteration "
       ]
      },
      {
       "output_type": "stream",
       "stream": "stdout",
       "text": [
        " 280 : error is  0.98018658225\n",
        "Iteration "
       ]
      },
      {
       "output_type": "stream",
       "stream": "stdout",
       "text": [
        " 290 : error is  0.974532007685\n",
        "Iteration "
       ]
      },
      {
       "output_type": "stream",
       "stream": "stdout",
       "text": [
        " 300 : error is  0.969439700715\n",
        "Iteration "
       ]
      },
      {
       "output_type": "stream",
       "stream": "stdout",
       "text": [
        " 310 : error is  0.964890833747\n",
        "Iteration "
       ]
      },
      {
       "output_type": "stream",
       "stream": "stdout",
       "text": [
        " 320 : error is  0.960806035001\n",
        "Iteration "
       ]
      },
      {
       "output_type": "stream",
       "stream": "stdout",
       "text": [
        " 330 : error is  0.957103860054\n",
        "Iteration "
       ]
      },
      {
       "output_type": "stream",
       "stream": "stdout",
       "text": [
        " 340 : error is  0.953710999261\n",
        "Iteration "
       ]
      },
      {
       "output_type": "stream",
       "stream": "stdout",
       "text": [
        " 350 : error is  0.950601576004\n",
        "Iteration "
       ]
      },
      {
       "output_type": "stream",
       "stream": "stdout",
       "text": [
        " 360 : error is  0.947661678134\n",
        "Iteration "
       ]
      },
      {
       "output_type": "stream",
       "stream": "stdout",
       "text": [
        " 370 : error is  0.945058385582\n",
        "Iteration "
       ]
      },
      {
       "output_type": "stream",
       "stream": "stdout",
       "text": [
        " 380 : error is  0.942697612606\n",
        "Iteration "
       ]
      },
      {
       "output_type": "stream",
       "stream": "stdout",
       "text": [
        " 390 : error is  0.940532454382\n",
        "Iteration "
       ]
      },
      {
       "output_type": "stream",
       "stream": "stdout",
       "text": [
        " 400 : error is  0.938530066814\n",
        "Iteration "
       ]
      },
      {
       "output_type": "stream",
       "stream": "stdout",
       "text": [
        " 410 : error is  0.936659632773\n",
        "Iteration "
       ]
      },
      {
       "output_type": "stream",
       "stream": "stdout",
       "text": [
        " 420 : error is  0.934920502504\n",
        "Iteration "
       ]
      },
      {
       "output_type": "stream",
       "stream": "stdout",
       "text": [
        " 430 : error is  0.933336449399\n",
        "Iteration "
       ]
      },
      {
       "output_type": "stream",
       "stream": "stdout",
       "text": [
        " 440 : error is  0.931876245147\n",
        "Iteration "
       ]
      },
      {
       "output_type": "stream",
       "stream": "stdout",
       "text": [
        " 450 : error is  0.93051716272\n",
        "Iteration "
       ]
      },
      {
       "output_type": "stream",
       "stream": "stdout",
       "text": [
        " 460 : error is  0.929246095678\n",
        "Iteration "
       ]
      },
      {
       "output_type": "stream",
       "stream": "stdout",
       "text": [
        " 470 : error is  0.928051325591\n",
        "Iteration "
       ]
      },
      {
       "output_type": "stream",
       "stream": "stdout",
       "text": [
        " 480 : error is  0.926923257244\n",
        "Iteration "
       ]
      },
      {
       "output_type": "stream",
       "stream": "stdout",
       "text": [
        " 490 : error is  0.92582261728\n",
        "Iteration "
       ]
      },
      {
       "output_type": "stream",
       "stream": "stdout",
       "text": [
        " 500 : error is  0.924822081693\n",
        "Iteration "
       ]
      },
      {
       "output_type": "stream",
       "stream": "stdout",
       "text": [
        " 510 : error is  0.923897207588\n",
        "Iteration "
       ]
      },
      {
       "output_type": "stream",
       "stream": "stdout",
       "text": [
        " 520 : error is  0.923028505039\n",
        "Iteration "
       ]
      },
      {
       "output_type": "stream",
       "stream": "stdout",
       "text": [
        " 530 : error is  0.922203874335\n",
        "Iteration "
       ]
      },
      {
       "output_type": "stream",
       "stream": "stdout",
       "text": [
        " 540 : error is  0.921418677961\n",
        "Iteration "
       ]
      },
      {
       "output_type": "stream",
       "stream": "stdout",
       "text": [
        " 550 : error is  0.92067305331\n",
        "Iteration "
       ]
      },
      {
       "output_type": "stream",
       "stream": "stdout",
       "text": [
        " 560 : error is  0.919964518194\n",
        "Iteration "
       ]
      },
      {
       "output_type": "stream",
       "stream": "stdout",
       "text": [
        " 570 : error is  0.919287086905\n",
        "Iteration "
       ]
      },
      {
       "output_type": "stream",
       "stream": "stdout",
       "text": [
        " 580 : error is  0.918638611579\n",
        "Iteration "
       ]
      },
      {
       "output_type": "stream",
       "stream": "stdout",
       "text": [
        " 590 : error is  0.918019932748\n",
        "Iteration "
       ]
      },
      {
       "output_type": "stream",
       "stream": "stdout",
       "text": [
        " 600 : error is  0.917425345656\n",
        "Iteration "
       ]
      },
      {
       "output_type": "stream",
       "stream": "stdout",
       "text": [
        " 610 : error is  0.916849158607\n",
        "Iteration "
       ]
      },
      {
       "output_type": "stream",
       "stream": "stdout",
       "text": [
        " 620 : error is  0.916288273645\n",
        "Iteration "
       ]
      },
      {
       "output_type": "stream",
       "stream": "stdout",
       "text": [
        " 630 : error is  0.915752589461\n",
        "Iteration "
       ]
      },
      {
       "output_type": "stream",
       "stream": "stdout",
       "text": [
        " 640 : error is  0.915256467313\n",
        "Iteration "
       ]
      },
      {
       "output_type": "stream",
       "stream": "stdout",
       "text": [
        " 650 : error is  0.914793534543\n",
        "Iteration "
       ]
      },
      {
       "output_type": "stream",
       "stream": "stdout",
       "text": [
        " 660 : error is  0.914352945643\n",
        "Iteration "
       ]
      },
      {
       "output_type": "stream",
       "stream": "stdout",
       "text": [
        " 670 : error is  0.91392537517\n",
        "Iteration "
       ]
      },
      {
       "output_type": "stream",
       "stream": "stdout",
       "text": [
        " 680 : error is  0.913542080938\n",
        "Iteration "
       ]
      },
      {
       "output_type": "stream",
       "stream": "stdout",
       "text": [
        " 690 : error is  0.913182627686\n",
        "Iteration "
       ]
      },
      {
       "output_type": "stream",
       "stream": "stdout",
       "text": [
        " 700 : error is  0.912844563714\n",
        "Iteration "
       ]
      },
      {
       "output_type": "stream",
       "stream": "stdout",
       "text": [
        " 710 : error is  0.912524506172\n",
        "Iteration "
       ]
      },
      {
       "output_type": "stream",
       "stream": "stdout",
       "text": [
        " 720 : error is  0.912219358321\n",
        "Iteration "
       ]
      },
      {
       "output_type": "stream",
       "stream": "stdout",
       "text": [
        " 730 : error is  0.911925555668\n",
        "Iteration "
       ]
      },
      {
       "output_type": "stream",
       "stream": "stdout",
       "text": [
        " 740 : error is  0.911638608102\n",
        "Iteration "
       ]
      },
      {
       "output_type": "stream",
       "stream": "stdout",
       "text": [
        " 750 : error is  0.911366342481\n",
        "Iteration "
       ]
      },
      {
       "output_type": "stream",
       "stream": "stdout",
       "text": [
        " 760 : error is  0.911110220487\n",
        "Iteration "
       ]
      },
      {
       "output_type": "stream",
       "stream": "stdout",
       "text": [
        " 770 : error is  0.910867561558\n",
        "Iteration "
       ]
      },
      {
       "output_type": "stream",
       "stream": "stdout",
       "text": [
        " 780 : error is  0.91062947429\n",
        "Iteration "
       ]
      },
      {
       "output_type": "stream",
       "stream": "stdout",
       "text": [
        " 790 : error is  0.910401939824\n",
        "Iteration "
       ]
      },
      {
       "output_type": "stream",
       "stream": "stdout",
       "text": [
        " 800 : error is  0.910192789093\n",
        "Iteration "
       ]
      },
      {
       "output_type": "stream",
       "stream": "stdout",
       "text": [
        " 810 : error is  0.90998647366\n",
        "Iteration "
       ]
      },
      {
       "output_type": "stream",
       "stream": "stdout",
       "text": [
        " 820 : error is  0.909788318825\n",
        "Iteration "
       ]
      },
      {
       "output_type": "stream",
       "stream": "stdout",
       "text": [
        " 830 : error is  0.909596519536\n",
        "Iteration "
       ]
      },
      {
       "output_type": "stream",
       "stream": "stdout",
       "text": [
        " 840 : error is  0.909389518986\n",
        "Iteration "
       ]
      },
      {
       "output_type": "stream",
       "stream": "stdout",
       "text": [
        " 850 : error is  0.909206824205\n",
        "Iteration "
       ]
      },
      {
       "output_type": "stream",
       "stream": "stdout",
       "text": [
        " 860 : error is  0.909039815643\n",
        "Iteration "
       ]
      },
      {
       "output_type": "stream",
       "stream": "stdout",
       "text": [
        " 870 : error is  0.908881965991\n",
        "Iteration "
       ]
      },
      {
       "output_type": "stream",
       "stream": "stdout",
       "text": [
        " 880 : error is  0.908730706005\n",
        "Iteration "
       ]
      },
      {
       "output_type": "stream",
       "stream": "stdout",
       "text": [
        " 890 : error is  0.908585387864\n",
        "Iteration "
       ]
      },
      {
       "output_type": "stream",
       "stream": "stdout",
       "text": [
        " 900 : error is  0.908445426971\n",
        "Iteration "
       ]
      },
      {
       "output_type": "stream",
       "stream": "stdout",
       "text": [
        " 910 : error is  0.908310286724\n",
        "Iteration "
       ]
      },
      {
       "output_type": "stream",
       "stream": "stdout",
       "text": [
        " 920 : error is  0.908180521636\n",
        "Iteration "
       ]
      },
      {
       "output_type": "stream",
       "stream": "stdout",
       "text": [
        " 930 : error is  0.908055511761\n",
        "Iteration "
       ]
      },
      {
       "output_type": "stream",
       "stream": "stdout",
       "text": [
        " 940 : error is  0.907934423535\n",
        "Iteration "
       ]
      },
      {
       "output_type": "stream",
       "stream": "stdout",
       "text": [
        " 950 : error is  0.907817405857\n",
        "Iteration "
       ]
      },
      {
       "output_type": "stream",
       "stream": "stdout",
       "text": [
        " 960 : error is  0.907704274895\n",
        "Iteration "
       ]
      },
      {
       "output_type": "stream",
       "stream": "stdout",
       "text": [
        " 970 : error is  0.907595080179\n",
        "Iteration "
       ]
      },
      {
       "output_type": "stream",
       "stream": "stdout",
       "text": [
        " 980 : error is  0.907489905618\n",
        "Iteration "
       ]
      },
      {
       "output_type": "stream",
       "stream": "stdout",
       "text": [
        " 990 : error is  0.907388494658\n",
        "Iteration "
       ]
      },
      {
       "output_type": "stream",
       "stream": "stdout",
       "text": [
        " 1000 : error is  0.9072903202\n"
       ]
      },
      {
       "output_type": "stream",
       "stream": "stderr",
       "text": [
        "-c:77: ComplexWarning: Casting complex values to real discards the imaginary part\n"
       ]
      }
     ],
     "prompt_number": 3
    },
    {
     "cell_type": "code",
     "collapsed": false,
     "input": [
      "Plot.scatter(Y[:,0], Y[:,1], 20, labels)"
     ],
     "language": "python",
     "metadata": {},
     "outputs": [
      {
       "metadata": {},
       "output_type": "pyout",
       "prompt_number": 7,
       "text": [
        "<matplotlib.collections.PathCollection at 0x8245990>"
       ]
      }
     ],
     "prompt_number": 7
    },
    {
     "cell_type": "code",
     "collapsed": false,
     "input": [
      "Plot.show()"
     ],
     "language": "python",
     "metadata": {},
     "outputs": [],
     "prompt_number": 8
    },
    {
     "cell_type": "code",
     "collapsed": false,
     "input": [],
     "language": "python",
     "metadata": {},
     "outputs": []
    }
   ],
   "metadata": {}
  }
 ]
}