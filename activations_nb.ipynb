{
 "metadata": {
  "name": "",
  "signature": "sha256:77c7a0382d91a0316f29da77695fc4ff9a81b762a41760799cca94ebca7eeb68"
 },
 "nbformat": 3,
 "nbformat_minor": 0,
 "worksheets": [
  {
   "cells": [
    {
     "cell_type": "code",
     "collapsed": false,
     "input": [
      "from Scientific.IO.NetCDF import *\n",
      "import os\n",
      "import numpy as np\n",
      "import h5py\n",
      "import csv"
     ],
     "language": "python",
     "metadata": {},
     "outputs": [],
     "prompt_number": 1
    },
    {
     "cell_type": "code",
     "collapsed": false,
     "input": [
      "fname = '/home/lioruzan/bats_proj/rnn/500_250/task00_00/test001_22.52.percent.error_ff.csv'"
     ],
     "language": "python",
     "metadata": {},
     "outputs": [],
     "prompt_number": 3
    },
    {
     "cell_type": "code",
     "collapsed": false,
     "input": [
      "num_classes = 10"
     ],
     "language": "python",
     "metadata": {},
     "outputs": [],
     "prompt_number": 4
    },
    {
     "cell_type": "code",
     "collapsed": false,
     "input": [],
     "language": "python",
     "metadata": {},
     "outputs": []
    },
    {
     "cell_type": "heading",
     "level": 1,
     "metadata": {},
     "source": [
      "ACTIVATIONS TESTS"
     ]
    },
    {
     "cell_type": "code",
     "collapsed": false,
     "input": [
      "def get_feedforward_labels(activations):\n",
      "    num_sequences = len(activations)\n",
      "    labels = [[] for i in xrange(num_sequences)]\n",
      "    for i in xrange(num_sequences):\n",
      "        \n",
      "        n_timesteps = activations[i].shape[0]\n",
      "        for j in xrange(n_timesteps):\n",
      "            \n",
      "            label = np.argmax(activations[i][j])\n",
      "            labels[i].append(label)\n",
      "    return labels"
     ],
     "language": "python",
     "metadata": {},
     "outputs": [],
     "prompt_number": 5
    },
    {
     "cell_type": "code",
     "collapsed": false,
     "input": [
      "def parse_csv(csv_file, num_classes):\n",
      "    activations = []\n",
      "    with open(csv_file, 'r') as f:\n",
      "        for activation in csv.reader(f, delimiter=';'):\n",
      "            activation_shape = (len(activation) / num_classes, num_classes)\n",
      "            activation = activation[1:]  # remove tag, it's is sequential from 0, so not necessary when appending\n",
      "            activation = np.array(activation, 'float32').reshape(activation_shape)  # make ndarray\n",
      "            activations.append(activation)\n",
      "\n",
      "    return activations"
     ],
     "language": "python",
     "metadata": {},
     "outputs": [],
     "prompt_number": 6
    },
    {
     "cell_type": "code",
     "collapsed": false,
     "input": [
      "activations = parse_csv(fname, num_classes)"
     ],
     "language": "python",
     "metadata": {},
     "outputs": [],
     "prompt_number": 7
    },
    {
     "cell_type": "code",
     "collapsed": false,
     "input": [
      "ff_labels = get_feedforward_labels(activations)"
     ],
     "language": "python",
     "metadata": {},
     "outputs": [],
     "prompt_number": 9
    },
    {
     "cell_type": "code",
     "collapsed": false,
     "input": [
      "def get_labels_lengths_from_nc(nc_fname):\n",
      "    nc_file = NetCDFFile(nc_fname, 'r')\n",
      "    labels = nc_file.variables['targetClasses'].getValue()\n",
      "    lengths = nc_file.variables['seqLengths'].getValue()\n",
      "    nc_file.close()\n",
      "    return labels, lengths"
     ],
     "language": "python",
     "metadata": {},
     "outputs": [],
     "prompt_number": 31
    },
    {
     "cell_type": "code",
     "collapsed": false,
     "input": [
      "nc_file = '/home/lioruzan/bats_proj/data/nc/train_00_02.nc'"
     ],
     "language": "python",
     "metadata": {},
     "outputs": [],
     "prompt_number": 32
    },
    {
     "cell_type": "code",
     "collapsed": false,
     "input": [
      "tru_labels, seq_lengths = get_labels_lengths_from_nc(nc_file)"
     ],
     "language": "python",
     "metadata": {},
     "outputs": [],
     "prompt_number": 33
    },
    {
     "cell_type": "code",
     "collapsed": false,
     "input": [
      "from scipy.stats import mode"
     ],
     "language": "python",
     "metadata": {},
     "outputs": [],
     "prompt_number": 44
    },
    {
     "cell_type": "code",
     "collapsed": false,
     "input": [
      "def seq_labels_by_majority(timestep_labels):\n",
      "\n",
      "    num_sequences = len(timestep_labels)\n",
      "    seq_labels = np.zeros(num_sequences, 'int32')\n",
      "    for i in xrange(num_sequences):\n",
      "\n",
      "        current_label = mode(timestep_labels[i])[0][0]\n",
      "        current_label = np.int32(current_label)\n",
      "        seq_labels[i] = current_label\n",
      "    return seq_labels"
     ],
     "language": "python",
     "metadata": {},
     "outputs": [],
     "prompt_number": 43
    },
    {
     "cell_type": "code",
     "collapsed": false,
     "input": [
      "seq_lbl_test = seq_labels_by_majority(ff_labels)"
     ],
     "language": "python",
     "metadata": {},
     "outputs": [],
     "prompt_number": 45
    },
    {
     "cell_type": "code",
     "collapsed": false,
     "input": [
      "seq_lbl_test.shape"
     ],
     "language": "python",
     "metadata": {},
     "outputs": [
      {
       "metadata": {},
       "output_type": "pyout",
       "prompt_number": 55,
       "text": [
        "(2737,)"
       ]
      }
     ],
     "prompt_number": 55
    },
    {
     "cell_type": "code",
     "collapsed": false,
     "input": [
      "np.bincount(seq_lbl_test)"
     ],
     "language": "python",
     "metadata": {},
     "outputs": [
      {
       "metadata": {},
       "output_type": "pyout",
       "prompt_number": 53,
       "text": [
        "array([403, 209, 392,  50, 349,   0,   8, 909, 413,   4])"
       ]
      }
     ],
     "prompt_number": 53
    },
    {
     "cell_type": "code",
     "collapsed": false,
     "input": [
      "def get_seq_label(i, labels, lengths):\n",
      "    tgt_label_index = sum(lengths[0:i])\n",
      "    return labels[tgt_label_index]"
     ],
     "language": "python",
     "metadata": {},
     "outputs": [],
     "prompt_number": 56
    },
    {
     "cell_type": "code",
     "collapsed": false,
     "input": [
      "l = []\n",
      "for i in xrange(2737):\n",
      "    l.append(get_seq_label(i, tru_labels, seq_lengths))\n",
      "np.bincount(l)"
     ],
     "language": "python",
     "metadata": {},
     "outputs": [
      {
       "metadata": {},
       "output_type": "pyout",
       "prompt_number": 57,
       "text": [
        "array([298, 214, 417,  97, 339,  36,  81, 573, 558, 124])"
       ]
      }
     ],
     "prompt_number": 57
    },
    {
     "cell_type": "code",
     "collapsed": false,
     "input": [
      "def average_seq_activations(seq_activations):\n",
      "    return [np.average(l, axis=0) for l in seq_activations]"
     ],
     "language": "python",
     "metadata": {},
     "outputs": [],
     "prompt_number": 11
    },
    {
     "cell_type": "code",
     "collapsed": false,
     "input": [
      "test = average_seq_activations(activations)"
     ],
     "language": "python",
     "metadata": {},
     "outputs": [],
     "prompt_number": 12
    },
    {
     "cell_type": "heading",
     "level": 1,
     "metadata": {},
     "source": [
      "TESTING DUMMY NC FUNCTIONS"
     ]
    },
    {
     "cell_type": "code",
     "collapsed": false,
     "input": [
      "def _make_nc(\n",
      "        nc_path, nc_name, numSeqs, numTimeSteps,\n",
      "        inputPattSize, maxSeqTagLength, numLabels,\n",
      "        seqTags, seqLengths, inputs, targetClasses):\n",
      "\n",
      "    #######################################################\n",
      "    # open new .nc file\n",
      "\n",
      "    nc_path = os.path.join(nc_path, nc_name)\n",
      "    nc_file = NetCDFFile(nc_path, 'w')\n",
      "\n",
      "    #######################################################\n",
      "    # create dimensions\n",
      "\n",
      "    numSeqs_name = 'numSeqs'\n",
      "    numSeqs_size = numSeqs\n",
      "    nc_file.createDimension(numSeqs_name, numSeqs_size)\n",
      "\n",
      "    numTimeSteps_name = 'numTimeSteps'\n",
      "    numTimeSteps_size = numTimeSteps\n",
      "    nc_file.createDimension(numTimeSteps_name, numTimeSteps_size)\n",
      "\n",
      "    inputPattSize_name = 'inputPattSize'\n",
      "    inputPattSize_size = inputPattSize\n",
      "    nc_file.createDimension(inputPattSize_name, inputPattSize_size)\n",
      "\n",
      "    maxSeqTagLength_name = 'maxSeqTagLength'\n",
      "    maxSeqTagLength_size = maxSeqTagLength\n",
      "    nc_file.createDimension(maxSeqTagLength_name, maxSeqTagLength_size)\n",
      "\n",
      "    numLabels_name = 'numLabels'\n",
      "    numLabels_size = numLabels\n",
      "    nc_file.createDimension(numLabels_name, numLabels_size)\n",
      "\n",
      "    #######################################################\n",
      "    # create variables in nc file\n",
      "    #\n",
      "    # for example:\n",
      "    # varDims = (1, 2)\n",
      "    # var1 = f.createVariable('varOne', 'i', varDims)\n",
      "    seqTags_dims = (numSeqs_name, maxSeqTagLength_name)\n",
      "    seqTags_var = nc_file.createVariable('seqTags', 'c', seqTags_dims)\n",
      "\n",
      "    seqLengths_dims = (numSeqs_name,)\n",
      "    seqLengths_var = nc_file.createVariable('seqLengths', 'i', seqLengths_dims)\n",
      "\n",
      "    inputs_dims = (numTimeSteps_name, inputPattSize_name)\n",
      "    inputs_var = nc_file.createVariable('inputs', 'f', inputs_dims)\n",
      "\n",
      "    targetClasses_dims = (numTimeSteps_name,)\n",
      "    targetClasses_vars = nc_file.createVariable('targetClasses', 'i', targetClasses_dims)\n",
      "\n",
      "    #######################################################\n",
      "    # fill variables\n",
      "\n",
      "    seqTags_var[:] = seqTags\n",
      "    seqLengths_var[:] = seqLengths\n",
      "    inputs_var[:] = inputs\n",
      "    targetClasses_vars[:] = targetClasses\n",
      "\n",
      "    #######################################################\n",
      "    # end nc creation, clean up\n",
      "\n",
      "    nc_file.close()\n",
      "\n",
      "\n",
      "# create dummy nc file for forward feeding a network with currennt. \n",
      "# dummy in the sense that it replaces the numLabels dimension with the number of output units\n",
      "def create_feedforward_dummy_nc(nc_path, old_nc_name, new_nc_name, num_output_units):\n",
      "    print os.path.join(nc_path, old_nc_name)\n",
      "    old = NetCDFFile(os.path.join(nc_path, old_nc_name))\n",
      "\n",
      "    numSeqs = old.dimensions['numSeqs']\n",
      "    numTimeSteps = old.dimensions['numTimeSteps']\n",
      "    inputPattSize = old.dimensions['inputPattSize']\n",
      "    maxSeqTagLength = old.dimensions['maxSeqTagLength']\n",
      "\n",
      "    seqTags = old.variables['seqTags'].getValue()\n",
      "    seqLengths = old.variables['seqLengths'].getValue()\n",
      "    inputs = old.variables['inputs'].getValue()\n",
      "    targetClasses = old.variables['targetClasses'].getValue()\n",
      "    old.close()\n",
      "\n",
      "    _make_nc(\n",
      "        nc_path, new_nc_name, numSeqs, numTimeSteps,\n",
      "        inputPattSize, maxSeqTagLength, num_output_units,\n",
      "        seqTags, seqLengths, inputs, targetClasses)"
     ],
     "language": "python",
     "metadata": {},
     "outputs": [],
     "prompt_number": 8
    },
    {
     "cell_type": "code",
     "collapsed": false,
     "input": [
      "create_feedforward_dummy_nc('/home/lioruzan/bats_proj/data/nc', 'test.nc', 'checking_ff_code.nc', 128)"
     ],
     "language": "python",
     "metadata": {},
     "outputs": [
      {
       "output_type": "stream",
       "stream": "stdout",
       "text": [
        "/home/lioruzan/bats_proj/data/nc/test.nc\n"
       ]
      }
     ],
     "prompt_number": 10
    },
    {
     "cell_type": "code",
     "collapsed": false,
     "input": [
      "p = os.path.join('/home/lioruzan/bats_proj/data/nc', 'test_06.nc')\n",
      "n = NetCDFFile(p)\n",
      "print n.variables\n",
      "n.dimensions\n",
      "n.close()"
     ],
     "language": "python",
     "metadata": {},
     "outputs": [
      {
       "output_type": "stream",
       "stream": "stdout",
       "text": [
        "{'seqTags': <NetCDFVariable object at 0x3120f60>, 'targetClasses': <NetCDFVariable object at 0x3120df8>, 'seqLengths': <NetCDFVariable object at 0x3120ed0>, 'inputs': <NetCDFVariable object at 0x3120f18>}\n"
       ]
      },
      {
       "metadata": {},
       "output_type": "pyout",
       "prompt_number": 14,
       "text": [
        "{'inputPattSize': 257,\n",
        " 'maxSeqTagLength': 5,\n",
        " 'numLabels': 13,\n",
        " 'numSeqs': 2054,\n",
        " 'numTimeSteps': 607336}"
       ]
      }
     ],
     "prompt_number": 14
    },
    {
     "cell_type": "code",
     "collapsed": false,
     "input": [],
     "language": "python",
     "metadata": {},
     "outputs": []
    }
   ],
   "metadata": {}
  }
 ]
}